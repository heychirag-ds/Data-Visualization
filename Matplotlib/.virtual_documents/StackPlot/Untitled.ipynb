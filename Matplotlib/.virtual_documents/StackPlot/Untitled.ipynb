import matplotlib.pyplot as plt


activities = ["Studying", "Playing", "Watching TV", "Sleeping"]


time_spent = [3,2,2,5]
colors = ['blue', 'red', 'green', 'pink']
plt.figure(figsize=(6,6))
plt.pie(time_spent, labels=activities, colors=colors, autopct='%1.1f%%', startangle=90)
plt.title("After School Activities")
plt.axis('equal')
plt.show()


import matplotlib.pyplot as plt

days = [1, 2, 3, 4, 5, 6, 7]  
studying = [3, 4, 3, 5, 4, 3, 4]
playing = [2, 2, 1, 1, 2, 3, 2]
watching_tv = [2, 1, 2, 2, 1, 1, 1]
sleeping = [5, 5, 6, 5, 6, 5, 5]

labels = ['Studying', 'Playing', 'Watching TV', 'Sleeping']
colors = ['skyblue', 'lightgreen', 'gold', 'lightcoral']

plt.figure(figsize=(10,6))
plt.stackplot(days, studying, playing, watching_tv, sleeping,
              labels=labels, colors=colors, alpha=0.8)

plt.legend(loc='upper left') 
plt.title('Weekly Activity Tracker')
plt.xlabel('Day')
plt.ylabel('Hours')
plt.grid(True)
plt.show()
