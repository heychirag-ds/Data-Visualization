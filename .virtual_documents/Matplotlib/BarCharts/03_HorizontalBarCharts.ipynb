import matplotlib.pyplot as plt

players = ["Sachin", "Sehwag", "Kohli", "Yuvraj"]
runs_5yrs = [500+700+1100+1500+1800, 0+200+900+1400+1600, 0+0+500+800+1100,
300+600+800+1100+900]


plt.barh(players, runs_5yrs, color="green")
plt.xlabel("Total Runs in First 5 Years")
plt.ylabel("First 5-Year Performance of Indian Batsmen")
plt.tight_layout()


players = ["Sachin", "Sehwag", "Kohli"]
runs = [1500, 1200, 1800]

plt.bar(players, runs, color="skyblue")

for i in range(len(players)):
    plt.text(i, runs[i] + 50, str(runs[i]), ha='center')

plt.ylabel("Runs")
plt.xlabel("Players")
plt.title("Runs Scored by Players")
plt.tight_layout()
