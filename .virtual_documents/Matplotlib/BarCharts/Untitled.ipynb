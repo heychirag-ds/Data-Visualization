#Task
#1. Create a side-by-side bar chart comparing runs of Sachin, Kohli, and Sehwag.
#2. Create a horizontal bar chart for debut 5-year runs.

import matplotlib.pyplot as plt
import numpy as np

years =  [2001, 2004, 2009, 2012, 2013]

sachin = [1392, 915, 1595, 749, 1162]
sehwag = [1230, 1141, 1167, 252, np.nan]
kohli = [np.nan, np.nan, 775, 1381, 1268]

x = np.arange(len(years))
width = 0.25

plt.bar(x - width, sachin, width=width, label="Sachin")
plt.bar(x, sehwag, width=width, label="Sehwag")
plt.bar(x + width, kohli, width=width, label="Kohli") 

plt.xlabel("Year")
plt.ylabel("Runs Scored")
plt.title("Runs scored in 5 years")
plt.xticks(x, years)
plt.tight_layout()
plt.legend()


players = ["Sachin", "Sehwag", "Kohli"]
runs = [3576, 4209, 3341]
years2 = ["1989-1993", "1999-2003", "2008-2012"]  # Reordered correctly for the players

plt.figure(figsize=(8, 5))
plt.barh(players, runs, color="#36d64d")
plt.xlabel("Runs in Debut 5 Years")
plt.ylabel("Players")
plt.title("Total Runs in Debut 5 Years")

for i in range(len(players)):
    plt.text(runs[i] + 50, i, years2[i], va='center')

plt.tight_layout()
plt.show()

