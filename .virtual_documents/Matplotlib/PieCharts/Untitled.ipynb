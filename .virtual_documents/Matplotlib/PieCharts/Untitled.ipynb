#Task
#1. Create a pie chart showing the market share of mobile OS (Android, iOS, others). 
#2. Then recreate the same using a horizontal bar chart and observe which is easier to understand.

import matplotlib.pyplot as plt

os_names = ['Android', 'iOS', 'Others']
market_share = [71.8, 27.6, 0.6]

plt.title("Market share of mobile OS")
colors = ['#ff9999','#66b3ff','#99ff99','#ffcc99']
explode = [0.1, 0, 0]
plt.pie(market_share, labels=os_names,colors=colors,autopct="%1.1f%%", explode=explode, shadow=True)
plt.show()
