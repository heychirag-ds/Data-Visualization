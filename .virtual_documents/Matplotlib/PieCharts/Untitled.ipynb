import matplotlib.pyplot as plt
plt.style.use("ggplot")

labels = ["Sachin", "Sehwag", "Kohli", "Yuvraj"]
runs = [18000, 8000, 12000, 9500]

plt.title("Career Runs of Indian Batsmen")
plt.pie(runs, labels=labels)
plt.show()
