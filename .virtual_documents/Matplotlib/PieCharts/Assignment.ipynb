#Task
#1. Create a pie chart showing the market share of mobile OS (Android, iOS, others). 
#2. Then recreate the same using a horizontal bar chart and observe which is easier to understand.
#3. Creating a side-by-side bar chart which compares market share in 2023 and 2024(Android and IOS)

import matplotlib.pyplot as plt
import numpy as np

#1:
os_names = ['Android', 'iOS', 'Others']
market_share = [71.8, 27.6, 0.6]

plt.title("Market share of mobile OS")
colors = ['#ff9999','#66b3ff','#99ff99','#ffcc99']
explode = [0.1, 0, 0]
plt.pie(market_share, labels=os_names,colors=colors,autopct="%1.1f%%", explode=explode, shadow=True)
plt.show()


#2:
plt.barh(os_names, market_share, color="#ff9999")

for i in range(len(os_names)):
    plt.text(market_share[i] + 1, i, f"{market_share[i]}%", va="center")

plt.ylabel("OS Names")
plt.title("Market share of mobile OS")
plt.show()


import matplotlib.pyplot as plt
import numpy as np

os_names = ['Android', 'iOS']

market_share_2023 = [72.1, 27.1]
market_share_2024 = [71.8, 27.6]

x = np.arange(len(os_names))
width = 0.4

plt.figure(figsize=(8, 5))

bars1 = plt.bar(x - width, market_share_2023, width=width, label="2023")
bars2 = plt.bar(x, market_share_2024, width=width, label="2024")

plt.xlabel("OS Names")
plt.ylabel("Market Share (%)")
plt.title("Mobile OS Market Share: 2023 vs 2024")
plt.xticks(x, os_names)
plt.legend()

for bar in bars1:
    height = bar.get_height()
    plt.text(bar.get_x() + bar.get_width()/2, height + 1, f"{height}%", ha='center', va='bottom')

for bar in bars2:
    height = bar.get_height()
    plt.text(bar.get_x() + bar.get_width()/2, height + 1, f"{height}%", ha='center', va='bottom')

plt.tight_layout()
plt.show()

